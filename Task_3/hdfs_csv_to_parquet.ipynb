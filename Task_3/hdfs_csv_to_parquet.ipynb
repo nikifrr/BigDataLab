{
 "cells": [
  {
   "cell_type": "markdown",
   "source": [
    "Task 3\r\n",
    "\r\n",
    "Using Python convert data from task2 into  Parquet and save as a copy (For example for Java check https://hadoop.apache.org/docs/r2.7.5/api/org/apache/hadoop/fs/FileSystem.html ). \r\n",
    "\r\n",
    "Copy scripts to the archive. Make screenshot of parquet contents.\r\n",
    "\r\n",
    "While uploading large files directly in HDFS via standard tools you'll get some problems due to file size. The workaround is to use batch loading (requires additional scripts in Python/Java/Scala)\r\n",
    "\r\n",
    "https://towardsdatascience.com/why-and-how-to-use-pandas-with-large-data-9594dda2ea4c\r\n",
    "\r\n",
    "EXPECTED OUTPUTS:\r\n",
    "·         ZIP-ed folder with your screenshots\r\n"
   ],
   "metadata": {}
  },
  {
   "cell_type": "code",
   "execution_count": 1,
   "source": [
    "from pyspark import SparkContext, SparkConf\r\n",
    "from pyspark.sql import SparkSession\r\n",
    "import pandas as pd"
   ],
   "outputs": [],
   "metadata": {}
  },
  {
   "cell_type": "markdown",
   "source": [
    "Make list of used files"
   ],
   "metadata": {}
  },
  {
   "cell_type": "code",
   "execution_count": 2,
   "source": [
    "root = 'hdfs://172.17.0.3/user/hive/warehouse'\r\n",
    "\r\n",
    "files = ('destinations',\r\n",
    "          'sample_submission',\r\n",
    "          'test',\r\n",
    "          'train')\r\n",
    "\r\n",
    "csvs = [f'{root}/{file}/{file}.csv' for file in files]\r\n",
    "\r\n",
    "csvs              "
   ],
   "outputs": [
    {
     "output_type": "execute_result",
     "data": {
      "text/plain": [
       "['hdfs://172.17.0.3/user/hive/warehouse/destinations/destinations.csv',\n",
       " 'hdfs://172.17.0.3/user/hive/warehouse/sample_submission/sample_submission.csv',\n",
       " 'hdfs://172.17.0.3/user/hive/warehouse/test/test.csv',\n",
       " 'hdfs://172.17.0.3/user/hive/warehouse/train/train.csv']"
      ]
     },
     "metadata": {},
     "execution_count": 2
    }
   ],
   "metadata": {}
  },
  {
   "cell_type": "markdown",
   "source": [
    "Start Spark session"
   ],
   "metadata": {}
  },
  {
   "cell_type": "code",
   "execution_count": 3,
   "source": [
    "sparkSession = SparkSession.builder.appName(\"read-csv-write-parquet\").getOrCreate()"
   ],
   "outputs": [
    {
     "output_type": "stream",
     "name": "stderr",
     "text": [
      "WARNING: An illegal reflective access operation has occurred\n",
      "WARNING: Illegal reflective access by org.apache.spark.unsafe.Platform (file:/usr/local/spark-3.1.2-bin-hadoop3.2/jars/spark-unsafe_2.12-3.1.2.jar) to constructor java.nio.DirectByteBuffer(long,int)\n",
      "WARNING: Please consider reporting this to the maintainers of org.apache.spark.unsafe.Platform\n",
      "WARNING: Use --illegal-access=warn to enable warnings of further illegal reflective access operations\n",
      "WARNING: All illegal access operations will be denied in a future release\n",
      "21/08/05 19:56:39 WARN NativeCodeLoader: Unable to load native-hadoop library for your platform... using builtin-java classes where applicable\n",
      "Using Spark's default log4j profile: org/apache/spark/log4j-defaults.properties\n",
      "Setting default log level to \"WARN\".\n",
      "To adjust logging level use sc.setLogLevel(newLevel). For SparkR, use setLogLevel(newLevel).\n"
     ]
    }
   ],
   "metadata": {}
  },
  {
   "cell_type": "markdown",
   "source": [
    "Define function for reading data"
   ],
   "metadata": {}
  },
  {
   "cell_type": "code",
   "execution_count": 4,
   "source": [
    "def read_csv_from_hdfs(path):\r\n",
    "    \"\"\"Reads csv from HDFS as Sparf DF\"\"\"\r\n",
    "    df_load = sparkSession.read.csv(path, header = 'true', inferSchema = True)\r\n",
    "    return(df_load)"
   ],
   "outputs": [],
   "metadata": {}
  },
  {
   "cell_type": "code",
   "execution_count": 5,
   "source": [
    "#optionally check reading inside\r\n",
    "read_csv_from_hdfs(csvs[0]).head()"
   ],
   "outputs": [
    {
     "output_type": "stream",
     "name": "stderr",
     "text": [
      "21/08/05 19:57:01 WARN package: Truncated the string representation of a plan since it was too large. This behavior can be adjusted by setting 'spark.sql.debug.maxToStringFields'.\n"
     ]
    },
    {
     "output_type": "execute_result",
     "data": {
      "text/plain": [
       "Row(srch_destination_id=0, d1=-2.19865708695, d2=-2.19865708695, d3=-2.19865708695, d4=-2.19865708695, d5=-2.19865708695, d6=-1.89762709129, d7=-2.19865708695, d8=-2.19865708695, d9=-1.89762709129, d10=-2.19865708695, d11=-2.19865708695, d12=-2.19865708695, d13=-2.19865708695, d14=-2.19865708695, d15=-2.19865708695, d16=-1.89762709129, d17=-2.19865708695, d18=-2.19865708695, d19=-2.19865708695, d20=-2.19865708695, d21=-2.19865708695, d22=-2.19865708695, d23=-2.19865708695, d24=-2.19865708695, d25=-2.19865708695, d26=-2.19865708695, d27=-2.19865708695, d28=-2.19865708695, d29=-2.19865708695, d30=-2.19865708695, d31=-2.19865708695, d32=-2.19865708695, d33=-2.19865708695, d34=-2.19865708695, d35=-2.19865708695, d36=-2.19865708695, d37=-1.89762709129, d38=-2.19865708695, d39=-2.19865708695, d40=-2.19865708695, d41=-2.19865708695, d42=-2.19865708695, d43=-1.89762709129, d44=-2.19865708695, d45=-2.19865708695, d46=-2.19865708695, d47=-2.19865708695, d48=-2.19865708695, d49=-2.19865708695, d50=-2.19865708695, d51=-2.19865708695, d52=-2.19865708695, d53=-2.19865708695, d54=-2.19865708695, d55=-2.19865708695, d56=-2.19865708695, d57=-2.19865708695, d58=-2.19865708695, d59=-2.19865708695, d60=-2.19865708695, d61=-2.19865708695, d62=-2.19865708695, d63=-2.19865708695, d64=-2.19865708695, d65=-2.19865708695, d66=-2.19865708695, d67=-2.19865708695, d68=-2.19865708695, d69=-2.19865708695, d70=-2.19865708695, d71=-2.19865708695, d72=-2.19865708695, d73=-2.19865708695, d74=-2.19865708695, d75=-2.19865708695, d76=-2.19865708695, d77=-2.19865708695, d78=-2.19865708695, d79=-2.19865708695, d80=-2.19865708695, d81=-2.19865708695, d82=-2.19865708695, d83=-2.19865708695, d84=-2.19865708695, d85=-2.19865708695, d86=-2.19865708695, d87=-2.19865708695, d88=-2.19865708695, d89=-2.19865708695, d90=-2.19865708695, d91=-2.19865708695, d92=-2.19865708695, d93=-1.89762709129, d94=-2.19865708695, d95=-2.19865708695, d96=-2.19865708695, d97=-2.19865708695, d98=-2.19865708695, d99=-2.19865708695, d100=-2.19865708695, d101=-2.19865708695, d102=-2.19865708695, d103=-2.19865708695, d104=-2.19865708695, d105=-2.19865708695, d106=-2.19865708695, d107=-2.19865708695, d108=-2.19865708695, d109=-2.19865708695, d110=-2.19865708695, d111=-2.19865708695, d112=-2.19865708695, d113=-2.19865708695, d114=-2.19865708695, d115=-2.19865708695, d116=-2.19865708695, d117=-2.19865708695, d118=-2.19865708695, d119=-2.19865708695, d120=-2.19865708695, d121=-1.89762709129, d122=-2.19865708695, d123=-2.19865708695, d124=-2.19865708695, d125=-2.19865708695, d126=-2.19865708695, d127=-2.19865708695, d128=-1.89762709129, d129=-2.19865708695, d130=-2.19865708695, d131=-2.19865708695, d132=-1.89762709129, d133=-2.19865708695, d134=-2.19865708695, d135=-2.19865708695, d136=-2.19865708695, d137=-2.19865708695, d138=-2.19865708695, d139=-2.19865708695, d140=-2.19865708695, d141=-2.19865708695, d142=-2.19865708695, d143=-2.19865708695, d144=-2.19865708695, d145=-2.19865708695, d146=-2.19865708695, d147=-2.19865708695, d148=-2.19865708695, d149=-2.19865708695)"
      ]
     },
     "metadata": {},
     "execution_count": 5
    }
   ],
   "metadata": {
    "scrolled": true
   }
  },
  {
   "cell_type": "code",
   "execution_count": 6,
   "source": [
    "def write_spark_df_to_parquet(spark_df, location):\r\n",
    "    return spark_df.write.parquet(location + '.parquet')"
   ],
   "outputs": [],
   "metadata": {}
  },
  {
   "cell_type": "code",
   "execution_count": 7,
   "source": [
    "for file in files:\r\n",
    "    in_location = f'{root}/{file}/{file}.csv'\r\n",
    "    out_location = f'staging/{file}'\r\n",
    "    print('reading', in_location)\r\n",
    "    write_spark_df_to_parquet(read_csv_from_hdfs(in_location), out_location)\r\n",
    "    print(f'writed to /{out_location}.parquet')"
   ],
   "outputs": [
    {
     "output_type": "stream",
     "name": "stdout",
     "text": [
      "reading hdfs://172.17.0.3/user/hive/warehouse/destinations/destinations.csv\n"
     ]
    },
    {
     "output_type": "stream",
     "name": "stderr",
     "text": [
      "                                                                                \r"
     ]
    },
    {
     "output_type": "stream",
     "name": "stdout",
     "text": [
      "writed to /staging/destinations.parquet\n",
      "reading hdfs://172.17.0.3/user/hive/warehouse/sample_submission/sample_submission.csv\n"
     ]
    },
    {
     "output_type": "stream",
     "name": "stderr",
     "text": [
      "                                                                                \r"
     ]
    },
    {
     "output_type": "stream",
     "name": "stdout",
     "text": [
      "writed to /staging/sample_submission.parquet\n",
      "reading hdfs://172.17.0.3/user/hive/warehouse/test/test.csv\n"
     ]
    },
    {
     "output_type": "stream",
     "name": "stderr",
     "text": [
      "                                                                                \r"
     ]
    },
    {
     "output_type": "stream",
     "name": "stdout",
     "text": [
      "writed to /staging/test.parquet\n",
      "reading hdfs://172.17.0.3/user/hive/warehouse/train/train.csv\n"
     ]
    },
    {
     "output_type": "stream",
     "name": "stderr",
     "text": [
      "[Stage 14:====================================================>   (29 + 2) / 31]\r"
     ]
    },
    {
     "output_type": "stream",
     "name": "stdout",
     "text": [
      "writed to /staging/train.parquet\n"
     ]
    },
    {
     "output_type": "stream",
     "name": "stderr",
     "text": [
      "                                                                                \r"
     ]
    }
   ],
   "metadata": {}
  },
  {
   "cell_type": "code",
   "execution_count": 8,
   "source": [
    "!ls  staging/*"
   ],
   "outputs": [
    {
     "output_type": "stream",
     "name": "stdout",
     "text": [
      "staging/destinations.parquet:\n",
      "part-00000-738fdd21-f3b9-418b-94c8-3cdacc43d476-c000.snappy.parquet\n",
      "part-00001-738fdd21-f3b9-418b-94c8-3cdacc43d476-c000.snappy.parquet\n",
      "part-00002-738fdd21-f3b9-418b-94c8-3cdacc43d476-c000.snappy.parquet\n",
      "part-00003-738fdd21-f3b9-418b-94c8-3cdacc43d476-c000.snappy.parquet\n",
      "_SUCCESS\n",
      "\n",
      "staging/sample_submission.parquet:\n",
      "part-00000-b0a06951-9918-4641-9f82-29b7fb7fe161-c000.snappy.parquet\n",
      "part-00001-b0a06951-9918-4641-9f82-29b7fb7fe161-c000.snappy.parquet\n",
      "part-00002-b0a06951-9918-4641-9f82-29b7fb7fe161-c000.snappy.parquet\n",
      "part-00003-b0a06951-9918-4641-9f82-29b7fb7fe161-c000.snappy.parquet\n",
      "_SUCCESS\n",
      "\n",
      "staging/test.parquet:\n",
      "part-00000-6152afce-b7cb-4697-af06-7839bfcd7535-c000.snappy.parquet\n",
      "part-00001-6152afce-b7cb-4697-af06-7839bfcd7535-c000.snappy.parquet\n",
      "part-00002-6152afce-b7cb-4697-af06-7839bfcd7535-c000.snappy.parquet\n",
      "part-00003-6152afce-b7cb-4697-af06-7839bfcd7535-c000.snappy.parquet\n",
      "_SUCCESS\n",
      "\n",
      "staging/train.parquet:\n",
      "part-00000-06e44650-1794-4ac9-8976-5af8b0914f2d-c000.snappy.parquet\n",
      "part-00001-06e44650-1794-4ac9-8976-5af8b0914f2d-c000.snappy.parquet\n",
      "part-00002-06e44650-1794-4ac9-8976-5af8b0914f2d-c000.snappy.parquet\n",
      "part-00003-06e44650-1794-4ac9-8976-5af8b0914f2d-c000.snappy.parquet\n",
      "part-00004-06e44650-1794-4ac9-8976-5af8b0914f2d-c000.snappy.parquet\n",
      "part-00005-06e44650-1794-4ac9-8976-5af8b0914f2d-c000.snappy.parquet\n",
      "part-00006-06e44650-1794-4ac9-8976-5af8b0914f2d-c000.snappy.parquet\n",
      "part-00007-06e44650-1794-4ac9-8976-5af8b0914f2d-c000.snappy.parquet\n",
      "part-00008-06e44650-1794-4ac9-8976-5af8b0914f2d-c000.snappy.parquet\n",
      "part-00009-06e44650-1794-4ac9-8976-5af8b0914f2d-c000.snappy.parquet\n",
      "part-00010-06e44650-1794-4ac9-8976-5af8b0914f2d-c000.snappy.parquet\n",
      "part-00011-06e44650-1794-4ac9-8976-5af8b0914f2d-c000.snappy.parquet\n",
      "part-00012-06e44650-1794-4ac9-8976-5af8b0914f2d-c000.snappy.parquet\n",
      "part-00013-06e44650-1794-4ac9-8976-5af8b0914f2d-c000.snappy.parquet\n",
      "part-00014-06e44650-1794-4ac9-8976-5af8b0914f2d-c000.snappy.parquet\n",
      "part-00015-06e44650-1794-4ac9-8976-5af8b0914f2d-c000.snappy.parquet\n",
      "part-00016-06e44650-1794-4ac9-8976-5af8b0914f2d-c000.snappy.parquet\n",
      "part-00017-06e44650-1794-4ac9-8976-5af8b0914f2d-c000.snappy.parquet\n",
      "part-00018-06e44650-1794-4ac9-8976-5af8b0914f2d-c000.snappy.parquet\n",
      "part-00019-06e44650-1794-4ac9-8976-5af8b0914f2d-c000.snappy.parquet\n",
      "part-00020-06e44650-1794-4ac9-8976-5af8b0914f2d-c000.snappy.parquet\n",
      "part-00021-06e44650-1794-4ac9-8976-5af8b0914f2d-c000.snappy.parquet\n",
      "part-00022-06e44650-1794-4ac9-8976-5af8b0914f2d-c000.snappy.parquet\n",
      "part-00023-06e44650-1794-4ac9-8976-5af8b0914f2d-c000.snappy.parquet\n",
      "part-00024-06e44650-1794-4ac9-8976-5af8b0914f2d-c000.snappy.parquet\n",
      "part-00025-06e44650-1794-4ac9-8976-5af8b0914f2d-c000.snappy.parquet\n",
      "part-00026-06e44650-1794-4ac9-8976-5af8b0914f2d-c000.snappy.parquet\n",
      "part-00027-06e44650-1794-4ac9-8976-5af8b0914f2d-c000.snappy.parquet\n",
      "part-00028-06e44650-1794-4ac9-8976-5af8b0914f2d-c000.snappy.parquet\n",
      "part-00029-06e44650-1794-4ac9-8976-5af8b0914f2d-c000.snappy.parquet\n",
      "part-00030-06e44650-1794-4ac9-8976-5af8b0914f2d-c000.snappy.parquet\n",
      "_SUCCESS\n"
     ]
    }
   ],
   "metadata": {}
  },
  {
   "cell_type": "code",
   "execution_count": 9,
   "source": [
    "!echo ================== head of binary parquet =========================\r\n",
    "!head staging/train.parquet/part-00030-f3f5a0fc-84f2-4ac3-9088-4132f411faab-c000.snappy.parquet\r\n",
    "!echo ================== tail of binary parquet =========================\r\n",
    "!tail staging/train.parquet/part-00030-f3f5a0fc-84f2-4ac3-9088-4132f411faab-c000.snappy.parquet"
   ],
   "outputs": [
    {
     "output_type": "stream",
     "name": "stdout",
     "text": [
      "================== head of binary parquet =========================\n",
      "head: cannot open 'staging/train.parquet/part-00030-f3f5a0fc-84f2-4ac3-9088-4132f411faab-c000.snappy.parquet' for reading: No such file or directory\n",
      "================== tail of binary parquet =========================\n",
      "tail: cannot open 'staging/train.parquet/part-00030-f3f5a0fc-84f2-4ac3-9088-4132f411faab-c000.snappy.parquet' for reading: No such file or directory\n"
     ]
    }
   ],
   "metadata": {}
  },
  {
   "cell_type": "markdown",
   "source": [
    "Show content in pandas dataframe "
   ],
   "metadata": {}
  },
  {
   "cell_type": "code",
   "execution_count": 10,
   "source": [
    "pd.read_parquet('staging/destinations.parquet')"
   ],
   "outputs": [
    {
     "output_type": "execute_result",
     "data": {
      "text/plain": [
       "       srch_destination_id        d1        d2        d3        d4        d5  \\\n",
       "0                        0 -2.198657 -2.198657 -2.198657 -2.198657 -2.198657   \n",
       "1                        1 -2.181690 -2.181690 -2.181690 -2.082564 -2.181690   \n",
       "2                        2 -2.183490 -2.224164 -2.224164 -2.189562 -2.105819   \n",
       "3                        3 -2.177409 -2.177409 -2.177409 -2.177409 -2.177409   \n",
       "4                        4 -2.189562 -2.187783 -2.194008 -2.171153 -2.152303   \n",
       "...                    ...       ...       ...       ...       ...       ...   \n",
       "62101                64989 -2.145876 -2.158016 -2.216621 -2.158016 -2.006209   \n",
       "62102                64990 -2.203479 -2.203479 -2.203479 -2.203479 -2.203479   \n",
       "62103                64991 -2.190567 -2.208308 -2.208308 -2.208308 -2.208308   \n",
       "62104                64992 -2.173686 -2.173686 -2.173686 -2.173686 -2.173686   \n",
       "62105                64993 -2.179457 -2.179457 -2.179457 -2.179457 -2.179457   \n",
       "\n",
       "             d6        d7        d8        d9  ...      d140      d141  \\\n",
       "0     -1.897627 -2.198657 -2.198657 -1.897627  ... -2.198657 -2.198657   \n",
       "1     -2.165028 -2.181690 -2.181690 -2.031597  ... -2.165028 -2.181690   \n",
       "2     -2.075407 -2.224164 -2.118483 -2.140393  ... -2.224164 -2.224164   \n",
       "3     -2.115485 -2.177409 -2.177409 -2.177409  ... -2.161081 -2.177409   \n",
       "4     -2.056618 -2.194008 -2.194008 -2.145911  ... -2.187356 -2.194008   \n",
       "...         ...       ...       ...       ...  ...       ...       ...   \n",
       "62101 -2.102505 -2.216621 -2.157203 -2.216621  ... -2.216621 -2.158016   \n",
       "62102 -2.176802 -2.203479 -2.203479 -2.203479  ... -2.203479 -2.203479   \n",
       "62103 -2.135493 -2.208308 -2.208308 -1.909808  ... -2.188935 -2.208308   \n",
       "62104 -2.173686 -2.173686 -2.173686 -2.173686  ... -2.173686 -2.173686   \n",
       "62105 -2.179457 -2.179457 -2.179457 -2.179457  ... -2.179457 -2.179457   \n",
       "\n",
       "           d142      d143      d144      d145      d146      d147      d148  \\\n",
       "0     -2.198657 -2.198657 -2.198657 -2.198657 -2.198657 -2.198657 -2.198657   \n",
       "1     -2.165028 -2.181690 -2.181690 -2.165028 -2.181690 -2.181690 -2.181690   \n",
       "2     -2.196379 -2.224164 -2.192009 -2.224164 -2.224164 -2.224164 -2.224164   \n",
       "3     -2.177409 -2.177409 -2.177409 -2.177409 -2.177409 -2.177409 -2.177409   \n",
       "4     -2.191779 -2.194008 -2.194008 -2.185161 -2.194008 -2.194008 -2.194008   \n",
       "...         ...       ...       ...       ...       ...       ...       ...   \n",
       "62101 -2.158016 -2.216621 -2.216621 -2.216621 -2.216621 -2.216621 -2.216621   \n",
       "62102 -2.203479 -2.203479 -2.203479 -2.203479 -2.203479 -2.203479 -2.203479   \n",
       "62103 -2.175594 -2.208308 -2.208308 -2.199347 -2.208308 -2.208308 -2.208308   \n",
       "62104 -2.173686 -2.173686 -2.173686 -2.173686 -2.173686 -2.173686 -2.173686   \n",
       "62105 -2.179457 -2.179457 -2.179457 -2.179457 -2.179457 -2.179457 -2.179457   \n",
       "\n",
       "           d149  \n",
       "0     -2.198657  \n",
       "1     -2.181690  \n",
       "2     -2.057548  \n",
       "3     -2.177409  \n",
       "4     -2.188037  \n",
       "...         ...  \n",
       "62101 -2.152024  \n",
       "62102 -2.008885  \n",
       "62103 -2.208308  \n",
       "62104 -2.173686  \n",
       "62105 -2.179457  \n",
       "\n",
       "[62106 rows x 150 columns]"
      ],
      "text/html": [
       "<div>\n",
       "<style scoped>\n",
       "    .dataframe tbody tr th:only-of-type {\n",
       "        vertical-align: middle;\n",
       "    }\n",
       "\n",
       "    .dataframe tbody tr th {\n",
       "        vertical-align: top;\n",
       "    }\n",
       "\n",
       "    .dataframe thead th {\n",
       "        text-align: right;\n",
       "    }\n",
       "</style>\n",
       "<table border=\"1\" class=\"dataframe\">\n",
       "  <thead>\n",
       "    <tr style=\"text-align: right;\">\n",
       "      <th></th>\n",
       "      <th>srch_destination_id</th>\n",
       "      <th>d1</th>\n",
       "      <th>d2</th>\n",
       "      <th>d3</th>\n",
       "      <th>d4</th>\n",
       "      <th>d5</th>\n",
       "      <th>d6</th>\n",
       "      <th>d7</th>\n",
       "      <th>d8</th>\n",
       "      <th>d9</th>\n",
       "      <th>...</th>\n",
       "      <th>d140</th>\n",
       "      <th>d141</th>\n",
       "      <th>d142</th>\n",
       "      <th>d143</th>\n",
       "      <th>d144</th>\n",
       "      <th>d145</th>\n",
       "      <th>d146</th>\n",
       "      <th>d147</th>\n",
       "      <th>d148</th>\n",
       "      <th>d149</th>\n",
       "    </tr>\n",
       "  </thead>\n",
       "  <tbody>\n",
       "    <tr>\n",
       "      <th>0</th>\n",
       "      <td>0</td>\n",
       "      <td>-2.198657</td>\n",
       "      <td>-2.198657</td>\n",
       "      <td>-2.198657</td>\n",
       "      <td>-2.198657</td>\n",
       "      <td>-2.198657</td>\n",
       "      <td>-1.897627</td>\n",
       "      <td>-2.198657</td>\n",
       "      <td>-2.198657</td>\n",
       "      <td>-1.897627</td>\n",
       "      <td>...</td>\n",
       "      <td>-2.198657</td>\n",
       "      <td>-2.198657</td>\n",
       "      <td>-2.198657</td>\n",
       "      <td>-2.198657</td>\n",
       "      <td>-2.198657</td>\n",
       "      <td>-2.198657</td>\n",
       "      <td>-2.198657</td>\n",
       "      <td>-2.198657</td>\n",
       "      <td>-2.198657</td>\n",
       "      <td>-2.198657</td>\n",
       "    </tr>\n",
       "    <tr>\n",
       "      <th>1</th>\n",
       "      <td>1</td>\n",
       "      <td>-2.181690</td>\n",
       "      <td>-2.181690</td>\n",
       "      <td>-2.181690</td>\n",
       "      <td>-2.082564</td>\n",
       "      <td>-2.181690</td>\n",
       "      <td>-2.165028</td>\n",
       "      <td>-2.181690</td>\n",
       "      <td>-2.181690</td>\n",
       "      <td>-2.031597</td>\n",
       "      <td>...</td>\n",
       "      <td>-2.165028</td>\n",
       "      <td>-2.181690</td>\n",
       "      <td>-2.165028</td>\n",
       "      <td>-2.181690</td>\n",
       "      <td>-2.181690</td>\n",
       "      <td>-2.165028</td>\n",
       "      <td>-2.181690</td>\n",
       "      <td>-2.181690</td>\n",
       "      <td>-2.181690</td>\n",
       "      <td>-2.181690</td>\n",
       "    </tr>\n",
       "    <tr>\n",
       "      <th>2</th>\n",
       "      <td>2</td>\n",
       "      <td>-2.183490</td>\n",
       "      <td>-2.224164</td>\n",
       "      <td>-2.224164</td>\n",
       "      <td>-2.189562</td>\n",
       "      <td>-2.105819</td>\n",
       "      <td>-2.075407</td>\n",
       "      <td>-2.224164</td>\n",
       "      <td>-2.118483</td>\n",
       "      <td>-2.140393</td>\n",
       "      <td>...</td>\n",
       "      <td>-2.224164</td>\n",
       "      <td>-2.224164</td>\n",
       "      <td>-2.196379</td>\n",
       "      <td>-2.224164</td>\n",
       "      <td>-2.192009</td>\n",
       "      <td>-2.224164</td>\n",
       "      <td>-2.224164</td>\n",
       "      <td>-2.224164</td>\n",
       "      <td>-2.224164</td>\n",
       "      <td>-2.057548</td>\n",
       "    </tr>\n",
       "    <tr>\n",
       "      <th>3</th>\n",
       "      <td>3</td>\n",
       "      <td>-2.177409</td>\n",
       "      <td>-2.177409</td>\n",
       "      <td>-2.177409</td>\n",
       "      <td>-2.177409</td>\n",
       "      <td>-2.177409</td>\n",
       "      <td>-2.115485</td>\n",
       "      <td>-2.177409</td>\n",
       "      <td>-2.177409</td>\n",
       "      <td>-2.177409</td>\n",
       "      <td>...</td>\n",
       "      <td>-2.161081</td>\n",
       "      <td>-2.177409</td>\n",
       "      <td>-2.177409</td>\n",
       "      <td>-2.177409</td>\n",
       "      <td>-2.177409</td>\n",
       "      <td>-2.177409</td>\n",
       "      <td>-2.177409</td>\n",
       "      <td>-2.177409</td>\n",
       "      <td>-2.177409</td>\n",
       "      <td>-2.177409</td>\n",
       "    </tr>\n",
       "    <tr>\n",
       "      <th>4</th>\n",
       "      <td>4</td>\n",
       "      <td>-2.189562</td>\n",
       "      <td>-2.187783</td>\n",
       "      <td>-2.194008</td>\n",
       "      <td>-2.171153</td>\n",
       "      <td>-2.152303</td>\n",
       "      <td>-2.056618</td>\n",
       "      <td>-2.194008</td>\n",
       "      <td>-2.194008</td>\n",
       "      <td>-2.145911</td>\n",
       "      <td>...</td>\n",
       "      <td>-2.187356</td>\n",
       "      <td>-2.194008</td>\n",
       "      <td>-2.191779</td>\n",
       "      <td>-2.194008</td>\n",
       "      <td>-2.194008</td>\n",
       "      <td>-2.185161</td>\n",
       "      <td>-2.194008</td>\n",
       "      <td>-2.194008</td>\n",
       "      <td>-2.194008</td>\n",
       "      <td>-2.188037</td>\n",
       "    </tr>\n",
       "    <tr>\n",
       "      <th>...</th>\n",
       "      <td>...</td>\n",
       "      <td>...</td>\n",
       "      <td>...</td>\n",
       "      <td>...</td>\n",
       "      <td>...</td>\n",
       "      <td>...</td>\n",
       "      <td>...</td>\n",
       "      <td>...</td>\n",
       "      <td>...</td>\n",
       "      <td>...</td>\n",
       "      <td>...</td>\n",
       "      <td>...</td>\n",
       "      <td>...</td>\n",
       "      <td>...</td>\n",
       "      <td>...</td>\n",
       "      <td>...</td>\n",
       "      <td>...</td>\n",
       "      <td>...</td>\n",
       "      <td>...</td>\n",
       "      <td>...</td>\n",
       "      <td>...</td>\n",
       "    </tr>\n",
       "    <tr>\n",
       "      <th>62101</th>\n",
       "      <td>64989</td>\n",
       "      <td>-2.145876</td>\n",
       "      <td>-2.158016</td>\n",
       "      <td>-2.216621</td>\n",
       "      <td>-2.158016</td>\n",
       "      <td>-2.006209</td>\n",
       "      <td>-2.102505</td>\n",
       "      <td>-2.216621</td>\n",
       "      <td>-2.157203</td>\n",
       "      <td>-2.216621</td>\n",
       "      <td>...</td>\n",
       "      <td>-2.216621</td>\n",
       "      <td>-2.158016</td>\n",
       "      <td>-2.158016</td>\n",
       "      <td>-2.216621</td>\n",
       "      <td>-2.216621</td>\n",
       "      <td>-2.216621</td>\n",
       "      <td>-2.216621</td>\n",
       "      <td>-2.216621</td>\n",
       "      <td>-2.216621</td>\n",
       "      <td>-2.152024</td>\n",
       "    </tr>\n",
       "    <tr>\n",
       "      <th>62102</th>\n",
       "      <td>64990</td>\n",
       "      <td>-2.203479</td>\n",
       "      <td>-2.203479</td>\n",
       "      <td>-2.203479</td>\n",
       "      <td>-2.203479</td>\n",
       "      <td>-2.203479</td>\n",
       "      <td>-2.176802</td>\n",
       "      <td>-2.203479</td>\n",
       "      <td>-2.203479</td>\n",
       "      <td>-2.203479</td>\n",
       "      <td>...</td>\n",
       "      <td>-2.203479</td>\n",
       "      <td>-2.203479</td>\n",
       "      <td>-2.203479</td>\n",
       "      <td>-2.203479</td>\n",
       "      <td>-2.203479</td>\n",
       "      <td>-2.203479</td>\n",
       "      <td>-2.203479</td>\n",
       "      <td>-2.203479</td>\n",
       "      <td>-2.203479</td>\n",
       "      <td>-2.008885</td>\n",
       "    </tr>\n",
       "    <tr>\n",
       "      <th>62103</th>\n",
       "      <td>64991</td>\n",
       "      <td>-2.190567</td>\n",
       "      <td>-2.208308</td>\n",
       "      <td>-2.208308</td>\n",
       "      <td>-2.208308</td>\n",
       "      <td>-2.208308</td>\n",
       "      <td>-2.135493</td>\n",
       "      <td>-2.208308</td>\n",
       "      <td>-2.208308</td>\n",
       "      <td>-1.909808</td>\n",
       "      <td>...</td>\n",
       "      <td>-2.188935</td>\n",
       "      <td>-2.208308</td>\n",
       "      <td>-2.175594</td>\n",
       "      <td>-2.208308</td>\n",
       "      <td>-2.208308</td>\n",
       "      <td>-2.199347</td>\n",
       "      <td>-2.208308</td>\n",
       "      <td>-2.208308</td>\n",
       "      <td>-2.208308</td>\n",
       "      <td>-2.208308</td>\n",
       "    </tr>\n",
       "    <tr>\n",
       "      <th>62104</th>\n",
       "      <td>64992</td>\n",
       "      <td>-2.173686</td>\n",
       "      <td>-2.173686</td>\n",
       "      <td>-2.173686</td>\n",
       "      <td>-2.173686</td>\n",
       "      <td>-2.173686</td>\n",
       "      <td>-2.173686</td>\n",
       "      <td>-2.173686</td>\n",
       "      <td>-2.173686</td>\n",
       "      <td>-2.173686</td>\n",
       "      <td>...</td>\n",
       "      <td>-2.173686</td>\n",
       "      <td>-2.173686</td>\n",
       "      <td>-2.173686</td>\n",
       "      <td>-2.173686</td>\n",
       "      <td>-2.173686</td>\n",
       "      <td>-2.173686</td>\n",
       "      <td>-2.173686</td>\n",
       "      <td>-2.173686</td>\n",
       "      <td>-2.173686</td>\n",
       "      <td>-2.173686</td>\n",
       "    </tr>\n",
       "    <tr>\n",
       "      <th>62105</th>\n",
       "      <td>64993</td>\n",
       "      <td>-2.179457</td>\n",
       "      <td>-2.179457</td>\n",
       "      <td>-2.179457</td>\n",
       "      <td>-2.179457</td>\n",
       "      <td>-2.179457</td>\n",
       "      <td>-2.179457</td>\n",
       "      <td>-2.179457</td>\n",
       "      <td>-2.179457</td>\n",
       "      <td>-2.179457</td>\n",
       "      <td>...</td>\n",
       "      <td>-2.179457</td>\n",
       "      <td>-2.179457</td>\n",
       "      <td>-2.179457</td>\n",
       "      <td>-2.179457</td>\n",
       "      <td>-2.179457</td>\n",
       "      <td>-2.179457</td>\n",
       "      <td>-2.179457</td>\n",
       "      <td>-2.179457</td>\n",
       "      <td>-2.179457</td>\n",
       "      <td>-2.179457</td>\n",
       "    </tr>\n",
       "  </tbody>\n",
       "</table>\n",
       "<p>62106 rows × 150 columns</p>\n",
       "</div>"
      ]
     },
     "metadata": {},
     "execution_count": 10
    }
   ],
   "metadata": {}
  }
 ],
 "metadata": {
  "kernelspec": {
   "display_name": "Python 3 (ipykernel)",
   "language": "python",
   "name": "python3"
  },
  "language_info": {
   "codemirror_mode": {
    "name": "ipython",
    "version": 3
   },
   "file_extension": ".py",
   "mimetype": "text/x-python",
   "name": "python",
   "nbconvert_exporter": "python",
   "pygments_lexer": "ipython3",
   "version": "3.9.6"
  }
 },
 "nbformat": 4,
 "nbformat_minor": 5
}